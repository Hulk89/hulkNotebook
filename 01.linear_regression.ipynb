{
 "cells": [
  {
   "cell_type": "code",
   "execution_count": 1,
   "metadata": {
    "collapsed": false
   },
   "outputs": [
    {
     "name": "stderr",
     "output_type": "stream",
     "text": [
      "/Users/ohhyeongseok/.pyenv/versions/3.5.1/envs/notebook-3.5.1/lib/python3.5/site-packages/matplotlib/font_manager.py:273: UserWarning: Matplotlib is building the font cache using fc-list. This may take a moment.\n",
      "  warnings.warn('Matplotlib is building the font cache using fc-list. This may take a moment.')\n",
      "/Users/ohhyeongseok/.pyenv/versions/3.5.1/envs/notebook-3.5.1/lib/python3.5/site-packages/matplotlib/font_manager.py:273: UserWarning: Matplotlib is building the font cache using fc-list. This may take a moment.\n",
      "  warnings.warn('Matplotlib is building the font cache using fc-list. This may take a moment.')\n"
     ]
    }
   ],
   "source": [
    "%matplotlib inline\n",
    "\n",
    "import matplotlib\n",
    "import numpy as np\n",
    "import matplotlib.pyplot as plt"
   ]
  },
  {
   "cell_type": "code",
   "execution_count": 19,
   "metadata": {
    "collapsed": false
   },
   "outputs": [
    {
     "name": "stdout",
     "output_type": "stream",
     "text": [
      "[ 2.70000607  2.33258816]\n"
     ]
    },
    {
     "data": {
      "image/png": "[encoded data removed]",
      "text/plain": [
       "<matplotlib.figure.Figure at 0x10ca3ee80>"
      ]
     },
     "metadata": {},
     "output_type": "display_data"
    }
   ],
   "source": [
    "xi = np.arange(0,9)\n",
    "A = np.array([xi, np.ones(9)])\n",
    "'''\n",
    "A will be [[0,1,2,3,4,...],\n",
    "           [1,1,1,1,1,...]]\n",
    "'''\n",
    "# RealParam\n",
    "w0 = 3\n",
    "w1 = 1\n",
    "# Linearly generated sequence\n",
    "y = np.arange(0,9)* w0 + w1 + w0*np.random.randn(9)\n",
    "\n",
    "w = np.linalg.lstsq(A.T,y)[0] # obtaining the parameters\n",
    "# get hyper parameter\n",
    "print(w)\n",
    "# plotting the line\n",
    "line = w[0]*xi+w[1] # regression line\n",
    "plt.plot(xi,line,'r-',xi,y,'o')\n",
    "plt.show()"
   ]
  }
 ],
 "metadata": {
  "kernelspec": {
   "display_name": "Python 3",
   "language": "python",
   "name": "python3"
  },
  "language_info": {
   "codemirror_mode": {
    "name": "ipython",
    "version": 3
   },
   "file_extension": ".py",
   "mimetype": "text/x-python",
   "name": "python",
   "nbconvert_exporter": "python",
   "pygments_lexer": "ipython3",
   "version": "3.5.1"
  }
 },
 "nbformat": 4,
 "nbformat_minor": 1
}
